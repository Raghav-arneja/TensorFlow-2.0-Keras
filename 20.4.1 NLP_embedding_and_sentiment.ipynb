{
  "nbformat": 4,
  "nbformat_minor": 0,
  "metadata": {
    "colab": {
      "name": "NLP- embedding_and_sentiment.ipynb",
      "provenance": [],
      "collapsed_sections": []
    },
    "kernelspec": {
      "name": "python3",
      "display_name": "Python 3"
    },
    "accelerator": "GPU"
  },
  "cells": [
    {
      "cell_type": "code",
      "metadata": {
        "id": "tZ_EM2m0e0Ht",
        "colab_type": "code",
        "colab": {}
      },
      "source": [
        "import tensorflow as tf\n",
        "\n",
        "from tensorflow.keras.preprocessing.text import Tokenizer\n",
        "from tensorflow.keras.preprocessing.sequence import pad_sequences"
      ],
      "execution_count": 0,
      "outputs": []
    },
    {
      "cell_type": "markdown",
      "metadata": {
        "id": "6s7JM5q9fQS2",
        "colab_type": "text"
      },
      "source": [
        "# Get the dataset"
      ]
    },
    {
      "cell_type": "code",
      "metadata": {
        "id": "jFCa-CqkfKxH",
        "colab_type": "code",
        "outputId": "b62214ce-eea8-48bd-cd1e-407be46793f3",
        "colab": {
          "base_uri": "https://localhost:8080/",
          "height": 322
        }
      },
      "source": [
        "!wget --no-check-certificate \\\n",
        "    -O /tmp/sentiment.csv https://drive.google.com/uc?id=13ySLC_ue6Umt9RJYSeM2t-V0kCv-4C-P"
      ],
      "execution_count": 4,
      "outputs": [
        {
          "output_type": "stream",
          "text": [
            "--2020-06-07 12:33:33--  https://drive.google.com/uc?id=13ySLC_ue6Umt9RJYSeM2t-V0kCv-4C-P\n",
            "Resolving drive.google.com (drive.google.com)... 172.217.212.113, 172.217.212.139, 172.217.212.102, ...\n",
            "Connecting to drive.google.com (drive.google.com)|172.217.212.113|:443... connected.\n",
            "HTTP request sent, awaiting response... 302 Moved Temporarily\n",
            "Location: https://doc-08-ak-docs.googleusercontent.com/docs/securesc/ha0ro937gcuc7l7deffksulhg5h7mbp1/37ki8h9lkcd7s9nae7610vo0c47i1706/1591533150000/11118900490791463723/*/13ySLC_ue6Umt9RJYSeM2t-V0kCv-4C-P [following]\n",
            "Warning: wildcards not supported in HTTP.\n",
            "--2020-06-07 12:33:33--  https://doc-08-ak-docs.googleusercontent.com/docs/securesc/ha0ro937gcuc7l7deffksulhg5h7mbp1/37ki8h9lkcd7s9nae7610vo0c47i1706/1591533150000/11118900490791463723/*/13ySLC_ue6Umt9RJYSeM2t-V0kCv-4C-P\n",
            "Resolving doc-08-ak-docs.googleusercontent.com (doc-08-ak-docs.googleusercontent.com)... 172.217.212.132, 2607:f8b0:4001:c03::84\n",
            "Connecting to doc-08-ak-docs.googleusercontent.com (doc-08-ak-docs.googleusercontent.com)|172.217.212.132|:443... connected.\n",
            "HTTP request sent, awaiting response... 200 OK\n",
            "Length: 127831 (125K) [text/csv]\n",
            "Saving to: ‘/tmp/sentiment.csv’\n",
            "\n",
            "\r/tmp/sentiment.csv    0%[                    ]       0  --.-KB/s               \r/tmp/sentiment.csv  100%[===================>] 124.83K  --.-KB/s    in 0.002s  \n",
            "\n",
            "2020-06-07 12:33:33 (72.7 MB/s) - ‘/tmp/sentiment.csv’ saved [127831/127831]\n",
            "\n"
          ],
          "name": "stdout"
        }
      ]
    },
    {
      "cell_type": "code",
      "metadata": {
        "id": "toH5GlmyfN5T",
        "colab_type": "code",
        "colab": {}
      },
      "source": [
        "import numpy as np\n",
        "import pandas as pd\n",
        "\n",
        "dataset = pd.read_csv('/tmp/sentiment.csv')\n",
        "\n",
        "sentences = dataset['text'].tolist()\n",
        "labels = dataset['sentiment'].tolist()\n",
        "\n",
        "training_size = int(len(sentences) * 0.8)\n",
        "\n",
        "training_sentences = sentences[0:training_size]\n",
        "testing_sentences = sentences[training_size:]\n",
        "training_labels = labels[0:training_size]\n",
        "testing_labels = labels[training_size:]\n",
        "\n",
        "# Make labels into numpy arrays for use with the network later\n",
        "training_labels_final = np.array(training_labels)\n",
        "testing_labels_final = np.array(testing_labels)"
      ],
      "execution_count": 0,
      "outputs": []
    },
    {
      "cell_type": "markdown",
      "metadata": {
        "id": "8nzHluyPgKs8",
        "colab_type": "text"
      },
      "source": [
        "# Tokenize the dataset"
      ]
    },
    {
      "cell_type": "code",
      "metadata": {
        "id": "DFrcXz8kf4-u",
        "colab_type": "code",
        "colab": {}
      },
      "source": [
        "vocab_size = 1000\n",
        "embedding_dim = 16\n",
        "max_length = 100\n",
        "trunc_type = 'post'\n",
        "padding_type = 'post'\n",
        "oov_tok = '<OOV>'\n",
        "\n",
        "tokenizer = Tokenizer(num_words= vocab_size, oov_token= oov_tok)\n",
        "tokenizer.fit_on_texts(training_sentences)\n",
        "word_index = tokenizer.word_index\n",
        "sequences = tokenizer.texts_to_sequences(training_sentences)\n",
        "padded = pad_sequences(sequences=sequences , maxlen = max_length, padding= padding_type, truncating= trunc_type)\n",
        "\n",
        "testing_sequences = tokenizer.texts_to_sequences(testing_sentences)\n",
        "testing_padded = pad_sequences(sequences=testing_sequences , maxlen = max_length, padding= padding_type, truncating= trunc_type)\n"
      ],
      "execution_count": 0,
      "outputs": []
    },
    {
      "cell_type": "markdown",
      "metadata": {
        "id": "8Xnolnpoh33q",
        "colab_type": "text"
      },
      "source": [
        "# Review a Sequence"
      ]
    },
    {
      "cell_type": "code",
      "metadata": {
        "id": "TvyXnhUPhtIn",
        "colab_type": "code",
        "outputId": "52317c6c-1cc8-489c-d8bc-057435da9c6c",
        "colab": {
          "base_uri": "https://localhost:8080/",
          "height": 70
        }
      },
      "source": [
        "reverse_word_index = dict([(value, key) for (key, value) in word_index.items()])\n",
        "\n",
        "def decode_review(text):\n",
        "    return ' '.join([reverse_word_index.get(i, '?') for i in text])\n",
        "\n",
        "print(decode_review(padded[1]))\n",
        "print(training_sentences[1])"
      ],
      "execution_count": 7,
      "outputs": [
        {
          "output_type": "stream",
          "text": [
            "good case excellent value ? ? ? ? ? ? ? ? ? ? ? ? ? ? ? ? ? ? ? ? ? ? ? ? ? ? ? ? ? ? ? ? ? ? ? ? ? ? ? ? ? ? ? ? ? ? ? ? ? ? ? ? ? ? ? ? ? ? ? ? ? ? ? ? ? ? ? ? ? ? ? ? ? ? ? ? ? ? ? ? ? ? ? ? ? ? ? ? ? ? ? ? ? ? ? ?\n",
            "Good case Excellent value.\n"
          ],
          "name": "stdout"
        }
      ]
    },
    {
      "cell_type": "markdown",
      "metadata": {
        "id": "4SnSaBQmiS-M",
        "colab_type": "text"
      },
      "source": [
        "# Train a Basic Sentiment Model with Embeddings"
      ]
    },
    {
      "cell_type": "code",
      "metadata": {
        "id": "nUH7X3fZiEKf",
        "colab_type": "code",
        "colab": {}
      },
      "source": [
        "model = tf.keras.Sequential([\n",
        "                             tf.keras.layers.Embedding(vocab_size, embedding_dim, input_length= max_length),\n",
        "                             tf.keras.layers.Flatten(),\n",
        "                             tf.keras.layers.Dense(6, activation='relu'),\n",
        "                             tf.keras.layers.Dense(1, activation='sigmoid')\n",
        "])\n",
        "\n",
        "model.compile(optimizer = 'adam',\n",
        "              loss = 'binary_crossentropy',\n",
        "              metrics = ['accuracy'])"
      ],
      "execution_count": 0,
      "outputs": []
    },
    {
      "cell_type": "code",
      "metadata": {
        "id": "vToPv6Aoj1Ng",
        "colab_type": "code",
        "outputId": "74d6381f-2caf-48fe-ac90-567d3730fe3b",
        "colab": {
          "base_uri": "https://localhost:8080/",
          "height": 370
        }
      },
      "source": [
        "epochs = 10\n",
        "\n",
        "model.fit(padded, training_labels_final, epochs= epochs ,validation_data=(testing_padded, testing_labels_final))"
      ],
      "execution_count": 9,
      "outputs": [
        {
          "output_type": "stream",
          "text": [
            "Epoch 1/10\n",
            "50/50 [==============================] - 0s 9ms/step - loss: 0.6924 - accuracy: 0.5148 - val_loss: 0.7012 - val_accuracy: 0.4110\n",
            "Epoch 2/10\n",
            "50/50 [==============================] - 0s 6ms/step - loss: 0.6893 - accuracy: 0.5229 - val_loss: 0.6973 - val_accuracy: 0.4110\n",
            "Epoch 3/10\n",
            "50/50 [==============================] - 0s 6ms/step - loss: 0.6820 - accuracy: 0.5235 - val_loss: 0.6960 - val_accuracy: 0.4110\n",
            "Epoch 4/10\n",
            "50/50 [==============================] - 0s 6ms/step - loss: 0.6597 - accuracy: 0.5681 - val_loss: 0.6492 - val_accuracy: 0.6992\n",
            "Epoch 5/10\n",
            "50/50 [==============================] - 0s 6ms/step - loss: 0.5646 - accuracy: 0.8305 - val_loss: 0.5951 - val_accuracy: 0.6967\n",
            "Epoch 6/10\n",
            "50/50 [==============================] - 0s 6ms/step - loss: 0.4310 - accuracy: 0.8788 - val_loss: 0.5374 - val_accuracy: 0.7544\n",
            "Epoch 7/10\n",
            "50/50 [==============================] - 0s 6ms/step - loss: 0.3251 - accuracy: 0.9209 - val_loss: 0.5077 - val_accuracy: 0.7544\n",
            "Epoch 8/10\n",
            "50/50 [==============================] - 0s 6ms/step - loss: 0.2512 - accuracy: 0.9410 - val_loss: 0.4787 - val_accuracy: 0.7719\n",
            "Epoch 9/10\n",
            "50/50 [==============================] - 0s 6ms/step - loss: 0.1986 - accuracy: 0.9542 - val_loss: 0.5116 - val_accuracy: 0.7243\n",
            "Epoch 10/10\n",
            "50/50 [==============================] - 0s 6ms/step - loss: 0.1604 - accuracy: 0.9674 - val_loss: 0.4805 - val_accuracy: 0.7719\n"
          ],
          "name": "stdout"
        },
        {
          "output_type": "execute_result",
          "data": {
            "text/plain": [
              "<tensorflow.python.keras.callbacks.History at 0x7f3bacd86940>"
            ]
          },
          "metadata": {
            "tags": []
          },
          "execution_count": 9
        }
      ]
    },
    {
      "cell_type": "markdown",
      "metadata": {
        "id": "f2cpP_SAkWGo",
        "colab_type": "text"
      },
      "source": [
        "# Get files for visualizing the network"
      ]
    },
    {
      "cell_type": "code",
      "metadata": {
        "id": "oUzVFmMakO8K",
        "colab_type": "code",
        "outputId": "cae2a242-b5ce-4df8-e425-e3fa7c6bba24",
        "colab": {
          "base_uri": "https://localhost:8080/",
          "height": 34
        }
      },
      "source": [
        "# First get the weights of the embedding layer\n",
        "e = model.layers[0]\n",
        "weights = e.get_weights()[0]\n",
        "print(weights.shape) # shape: (vocab_size, embedding_dim)"
      ],
      "execution_count": 10,
      "outputs": [
        {
          "output_type": "stream",
          "text": [
            "(1000, 16)\n"
          ],
          "name": "stdout"
        }
      ]
    },
    {
      "cell_type": "code",
      "metadata": {
        "id": "xKf9sleEktwg",
        "colab_type": "code",
        "colab": {}
      },
      "source": [
        "import io\n",
        "\n",
        "# Create the reverse word index\n",
        "reverse_word_index = dict([(value, key) for (key, value) in word_index.items()])\n",
        "\n",
        "# Write out the embedding vectors and metadata\n",
        "out_v = io.open('vecs.tsv', 'w', encoding='utf-8')\n",
        "out_m = io.open('meta.tsv', 'w', encoding='utf-8')\n",
        "for word_num in range(1, vocab_size):\n",
        "  word = reverse_word_index[word_num]\n",
        "  embeddings = weights[word_num]\n",
        "  out_m.write(word + \"\\n\")\n",
        "  out_v.write('\\t'.join([str(x) for x in embeddings]) + \"\\n\")\n",
        "out_v.close()\n",
        "out_m.close()"
      ],
      "execution_count": 0,
      "outputs": []
    },
    {
      "cell_type": "code",
      "metadata": {
        "id": "ejNrExa6k3Eh",
        "colab_type": "code",
        "colab": {}
      },
      "source": [
        "# Download the files\n",
        "try:\n",
        "  from google.colab import files\n",
        "except ImportError:\n",
        "  pass\n",
        "else:\n",
        "  files.download('vecs.tsv')\n",
        "  files.download('meta.tsv')"
      ],
      "execution_count": 0,
      "outputs": []
    },
    {
      "cell_type": "code",
      "metadata": {
        "id": "3-5zg6eEk456",
        "colab_type": "code",
        "colab": {}
      },
      "source": [
        "# load the site\n",
        "# http://projector.tensorflow.org/"
      ],
      "execution_count": 0,
      "outputs": []
    },
    {
      "cell_type": "markdown",
      "metadata": {
        "id": "E3lAhI5kqdTq",
        "colab_type": "text"
      },
      "source": [
        "# Predicting Sentiment in New Reviews\n"
      ]
    },
    {
      "cell_type": "code",
      "metadata": {
        "id": "ZkAFh_Idqcpb",
        "colab_type": "code",
        "outputId": "f9886db6-22e3-4126-880c-2f8668d2cbe5",
        "colab": {
          "base_uri": "https://localhost:8080/",
          "height": 776
        }
      },
      "source": [
        "# Use the model to predict a review   \n",
        "fake_reviews = ['I love this phone', 'I hate spaghetti', \n",
        "                'Everything was cold',\n",
        "                'Everything was hot exactly as I wanted', \n",
        "                'Everything was green', \n",
        "                'the host seated us immediately',\n",
        "                'they gave us free chocolate cake', \n",
        "                'not sure about the wilted flowers on the table',\n",
        "                'only works when I stand on tippy toes', \n",
        "                'does not work when I stand on my head']\n",
        "\n",
        "print(fake_reviews) \n",
        "\n",
        "# Create the sequences\n",
        "padding_type='post'\n",
        "sample_sequences = tokenizer.texts_to_sequences(fake_reviews)\n",
        "fakes_padded = pad_sequences(sample_sequences, padding=padding_type, maxlen=max_length)           \n",
        "\n",
        "print('\\nHOT OFF THE PRESS! HERE ARE SOME NEWLY MINTED, ABSOLUTELY GENUINE REVIEWS!\\n')              \n",
        "\n",
        "classes = model.predict(fakes_padded)\n",
        "\n",
        "# The closer the class is to 1, the more positive the review is deemed to be\n",
        "for x in range(len(fake_reviews)):\n",
        "  print(fake_reviews[x])\n",
        "  print(classes[x])\n",
        "  print('\\n')\n",
        "\n",
        "# Try adding reviews of your own\n",
        "# Add some negative words (such as \"not\") to the good reviews and see what happens\n",
        "# For example:\n",
        "# they gave us free chocolate cake and did not charge us"
      ],
      "execution_count": 0,
      "outputs": [
        {
          "output_type": "stream",
          "text": [
            "['I love this phone', 'I hate spaghetti', 'Everything was cold', 'Everything was hot exactly as I wanted', 'Everything was green', 'the host seated us immediately', 'they gave us free chocolate cake', 'not sure about the wilted flowers on the table', 'only works when I stand on tippy toes', 'does not work when I stand on my head']\n",
            "\n",
            "HOT OFF THE PRESS! HERE ARE SOME NEWLY MINTED, ABSOLUTELY GENUINE REVIEWS!\n",
            "\n",
            "I love this phone\n",
            "[0.9737838]\n",
            "\n",
            "\n",
            "I hate spaghetti\n",
            "[0.0616268]\n",
            "\n",
            "\n",
            "Everything was cold\n",
            "[0.2647268]\n",
            "\n",
            "\n",
            "Everything was hot exactly as I wanted\n",
            "[0.61759526]\n",
            "\n",
            "\n",
            "Everything was green\n",
            "[0.46454948]\n",
            "\n",
            "\n",
            "the host seated us immediately\n",
            "[0.69524133]\n",
            "\n",
            "\n",
            "they gave us free chocolate cake\n",
            "[0.896219]\n",
            "\n",
            "\n",
            "not sure about the wilted flowers on the table\n",
            "[0.08532284]\n",
            "\n",
            "\n",
            "only works when I stand on tippy toes\n",
            "[0.9360892]\n",
            "\n",
            "\n",
            "does not work when I stand on my head\n",
            "[0.00120141]\n",
            "\n",
            "\n"
          ],
          "name": "stdout"
        }
      ]
    },
    {
      "cell_type": "code",
      "metadata": {
        "id": "1PY5jnBXqgby",
        "colab_type": "code",
        "colab": {}
      },
      "source": [
        ""
      ],
      "execution_count": 0,
      "outputs": []
    }
  ]
}