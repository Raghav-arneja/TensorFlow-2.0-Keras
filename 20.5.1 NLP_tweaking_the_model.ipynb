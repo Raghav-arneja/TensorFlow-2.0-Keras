{
  "nbformat": 4,
  "nbformat_minor": 0,
  "metadata": {
    "colab": {
      "name": "NLP- tweaking the model.ipynb",
      "provenance": [],
      "collapsed_sections": []
    },
    "kernelspec": {
      "name": "python3",
      "display_name": "Python 3"
    },
    "accelerator": "GPU"
  },
  "cells": [
    {
      "cell_type": "code",
      "metadata": {
        "id": "tZ_EM2m0e0Ht",
        "colab_type": "code",
        "colab": {}
      },
      "source": [
        "import tensorflow as tf\n",
        "\n",
        "from tensorflow.keras.preprocessing.text import Tokenizer\n",
        "from tensorflow.keras.preprocessing.sequence import pad_sequences"
      ],
      "execution_count": 0,
      "outputs": []
    },
    {
      "cell_type": "markdown",
      "metadata": {
        "id": "6s7JM5q9fQS2",
        "colab_type": "text"
      },
      "source": [
        "# Get the dataset"
      ]
    },
    {
      "cell_type": "code",
      "metadata": {
        "id": "jFCa-CqkfKxH",
        "colab_type": "code",
        "outputId": "9b9a94a4-5573-4b1b-b9da-a9a1d0f64940",
        "colab": {
          "base_uri": "https://localhost:8080/",
          "height": 322
        }
      },
      "source": [
        "!wget --no-check-certificate \\\n",
        "    -O /tmp/sentiment.csv https://drive.google.com/uc?id=13ySLC_ue6Umt9RJYSeM2t-V0kCv-4C-P"
      ],
      "execution_count": 2,
      "outputs": [
        {
          "output_type": "stream",
          "text": [
            "--2020-06-07 12:38:03--  https://drive.google.com/uc?id=13ySLC_ue6Umt9RJYSeM2t-V0kCv-4C-P\n",
            "Resolving drive.google.com (drive.google.com)... 64.233.167.139, 64.233.167.138, 64.233.167.102, ...\n",
            "Connecting to drive.google.com (drive.google.com)|64.233.167.139|:443... connected.\n",
            "HTTP request sent, awaiting response... 302 Moved Temporarily\n",
            "Location: https://doc-08-ak-docs.googleusercontent.com/docs/securesc/ha0ro937gcuc7l7deffksulhg5h7mbp1/mlnp5b1o1j1pagilthd0q3ebbvit59oe/1591533450000/11118900490791463723/*/13ySLC_ue6Umt9RJYSeM2t-V0kCv-4C-P [following]\n",
            "Warning: wildcards not supported in HTTP.\n",
            "--2020-06-07 12:38:03--  https://doc-08-ak-docs.googleusercontent.com/docs/securesc/ha0ro937gcuc7l7deffksulhg5h7mbp1/mlnp5b1o1j1pagilthd0q3ebbvit59oe/1591533450000/11118900490791463723/*/13ySLC_ue6Umt9RJYSeM2t-V0kCv-4C-P\n",
            "Resolving doc-08-ak-docs.googleusercontent.com (doc-08-ak-docs.googleusercontent.com)... 173.194.76.132, 2a00:1450:400c:c00::84\n",
            "Connecting to doc-08-ak-docs.googleusercontent.com (doc-08-ak-docs.googleusercontent.com)|173.194.76.132|:443... connected.\n",
            "HTTP request sent, awaiting response... 200 OK\n",
            "Length: 127831 (125K) [text/csv]\n",
            "Saving to: ‘/tmp/sentiment.csv’\n",
            "\n",
            "\r/tmp/sentiment.csv    0%[                    ]       0  --.-KB/s               \r/tmp/sentiment.csv  100%[===================>] 124.83K  --.-KB/s    in 0.001s  \n",
            "\n",
            "2020-06-07 12:38:03 (83.8 MB/s) - ‘/tmp/sentiment.csv’ saved [127831/127831]\n",
            "\n"
          ],
          "name": "stdout"
        }
      ]
    },
    {
      "cell_type": "code",
      "metadata": {
        "id": "toH5GlmyfN5T",
        "colab_type": "code",
        "colab": {}
      },
      "source": [
        "import numpy as np\n",
        "import pandas as pd\n",
        "\n",
        "dataset = pd.read_csv('/tmp/sentiment.csv')\n",
        "\n",
        "sentences = dataset['text'].tolist()\n",
        "labels = dataset['sentiment'].tolist()\n",
        "\n",
        "training_size = int(len(sentences) * 0.8)\n",
        "\n",
        "training_sentences = sentences[0:training_size]\n",
        "testing_sentences = sentences[training_size:]\n",
        "training_labels = labels[0:training_size]\n",
        "testing_labels = labels[training_size:]\n",
        "\n",
        "# Make labels into numpy arrays for use with the network later\n",
        "training_labels_final = np.array(training_labels)\n",
        "testing_labels_final = np.array(testing_labels)"
      ],
      "execution_count": 0,
      "outputs": []
    },
    {
      "cell_type": "markdown",
      "metadata": {
        "id": "8nzHluyPgKs8",
        "colab_type": "text"
      },
      "source": [
        "# Tokenize the dataset"
      ]
    },
    {
      "cell_type": "code",
      "metadata": {
        "id": "DFrcXz8kf4-u",
        "colab_type": "code",
        "colab": {}
      },
      "source": [
        "vocab_size = 500\n",
        "embedding_dim = 16\n",
        "max_length = 50\n",
        "trunc_type = 'post'\n",
        "padding_type = 'post'\n",
        "oov_tok = '<OOV>'\n",
        "\n",
        "tokenizer = Tokenizer(num_words= vocab_size, oov_token= oov_tok)\n",
        "tokenizer.fit_on_texts(training_sentences)\n",
        "word_index = tokenizer.word_index\n",
        "training_sequences = tokenizer.texts_to_sequences(training_sentences)\n",
        "training_padded = pad_sequences(sequences=training_sequences , maxlen = max_length, padding= padding_type, truncating= trunc_type)\n",
        "\n",
        "testing_sequences = tokenizer.texts_to_sequences(testing_sentences)\n",
        "testing_padded = pad_sequences(sequences=testing_sequences , maxlen = max_length, padding= padding_type, truncating= trunc_type)\n"
      ],
      "execution_count": 0,
      "outputs": []
    },
    {
      "cell_type": "markdown",
      "metadata": {
        "id": "8Xnolnpoh33q",
        "colab_type": "text"
      },
      "source": [
        "# Review a Sequence"
      ]
    },
    {
      "cell_type": "code",
      "metadata": {
        "id": "TvyXnhUPhtIn",
        "colab_type": "code",
        "outputId": "5fee306c-4f0e-4e68-d9f1-a8ec4db1f4d4",
        "colab": {
          "base_uri": "https://localhost:8080/",
          "height": 50
        }
      },
      "source": [
        "reverse_word_index = dict([(value, key) for (key, value) in word_index.items()])\n",
        "\n",
        "def decode_review(text):\n",
        "    return ' '.join([reverse_word_index.get(i, '?') for i in text])\n",
        "\n",
        "print(decode_review(training_padded[1]))\n",
        "print(training_sentences[1])"
      ],
      "execution_count": 6,
      "outputs": [
        {
          "output_type": "stream",
          "text": [
            "good case excellent value ? ? ? ? ? ? ? ? ? ? ? ? ? ? ? ? ? ? ? ? ? ? ? ? ? ? ? ? ? ? ? ? ? ? ? ? ? ? ? ? ? ? ? ? ? ?\n",
            "Good case Excellent value.\n"
          ],
          "name": "stdout"
        }
      ]
    },
    {
      "cell_type": "markdown",
      "metadata": {
        "id": "4SnSaBQmiS-M",
        "colab_type": "text"
      },
      "source": [
        "# Train a Basic Sentiment Model with Embeddings"
      ]
    },
    {
      "cell_type": "code",
      "metadata": {
        "id": "nUH7X3fZiEKf",
        "colab_type": "code",
        "colab": {}
      },
      "source": [
        "model = tf.keras.Sequential([\n",
        "                             tf.keras.layers.Embedding(vocab_size, embedding_dim, input_length= max_length),\n",
        "                             tf.keras.layers.GlobalAveragePooling1D(),\n",
        "                             tf.keras.layers.Dense(6, activation='relu'),\n",
        "                             tf.keras.layers.Dense(1, activation='sigmoid')\n",
        "])\n",
        "\n",
        "model.compile(optimizer = 'adam',\n",
        "              loss = 'binary_crossentropy',\n",
        "              metrics = ['accuracy'])"
      ],
      "execution_count": 0,
      "outputs": []
    },
    {
      "cell_type": "code",
      "metadata": {
        "id": "vToPv6Aoj1Ng",
        "colab_type": "code",
        "outputId": "1eb6f1f9-ba91-44ba-ffe9-ad3c190f7aba",
        "colab": {
          "base_uri": "https://localhost:8080/",
          "height": 1000
        }
      },
      "source": [
        "epochs = 30\n",
        "\n",
        "history = model.fit(training_padded, training_labels_final, epochs= epochs ,validation_data=(testing_padded, testing_labels_final))"
      ],
      "execution_count": 8,
      "outputs": [
        {
          "output_type": "stream",
          "text": [
            "Epoch 1/30\n",
            "50/50 [==============================] - 0s 9ms/step - loss: 0.6927 - accuracy: 0.5091 - val_loss: 0.6937 - val_accuracy: 0.4185\n",
            "Epoch 2/30\n",
            "50/50 [==============================] - 0s 6ms/step - loss: 0.6907 - accuracy: 0.5254 - val_loss: 0.6945 - val_accuracy: 0.4185\n",
            "Epoch 3/30\n",
            "50/50 [==============================] - 0s 6ms/step - loss: 0.6864 - accuracy: 0.5317 - val_loss: 0.6925 - val_accuracy: 0.4511\n",
            "Epoch 4/30\n",
            "50/50 [==============================] - 0s 6ms/step - loss: 0.6770 - accuracy: 0.6183 - val_loss: 0.6881 - val_accuracy: 0.4762\n",
            "Epoch 5/30\n",
            "50/50 [==============================] - 0s 6ms/step - loss: 0.6644 - accuracy: 0.6403 - val_loss: 0.6790 - val_accuracy: 0.5338\n",
            "Epoch 6/30\n",
            "50/50 [==============================] - 0s 5ms/step - loss: 0.6467 - accuracy: 0.6792 - val_loss: 0.6664 - val_accuracy: 0.5514\n",
            "Epoch 7/30\n",
            "50/50 [==============================] - 0s 6ms/step - loss: 0.6237 - accuracy: 0.7389 - val_loss: 0.6499 - val_accuracy: 0.5789\n",
            "Epoch 8/30\n",
            "50/50 [==============================] - 0s 6ms/step - loss: 0.5959 - accuracy: 0.7596 - val_loss: 0.6196 - val_accuracy: 0.6967\n",
            "Epoch 9/30\n",
            "50/50 [==============================] - 0s 6ms/step - loss: 0.5649 - accuracy: 0.7910 - val_loss: 0.6049 - val_accuracy: 0.6742\n",
            "Epoch 10/30\n",
            "50/50 [==============================] - 0s 6ms/step - loss: 0.5332 - accuracy: 0.8092 - val_loss: 0.5727 - val_accuracy: 0.7669\n",
            "Epoch 11/30\n",
            "50/50 [==============================] - 0s 6ms/step - loss: 0.5008 - accuracy: 0.8286 - val_loss: 0.5777 - val_accuracy: 0.6892\n",
            "Epoch 12/30\n",
            "50/50 [==============================] - 0s 6ms/step - loss: 0.4716 - accuracy: 0.8399 - val_loss: 0.5639 - val_accuracy: 0.6917\n",
            "Epoch 13/30\n",
            "50/50 [==============================] - 0s 6ms/step - loss: 0.4461 - accuracy: 0.8349 - val_loss: 0.5272 - val_accuracy: 0.7619\n",
            "Epoch 14/30\n",
            "50/50 [==============================] - 0s 6ms/step - loss: 0.4189 - accuracy: 0.8544 - val_loss: 0.5208 - val_accuracy: 0.7419\n",
            "Epoch 15/30\n",
            "50/50 [==============================] - 0s 6ms/step - loss: 0.3967 - accuracy: 0.8632 - val_loss: 0.5012 - val_accuracy: 0.7769\n",
            "Epoch 16/30\n",
            "50/50 [==============================] - 0s 6ms/step - loss: 0.3770 - accuracy: 0.8644 - val_loss: 0.5025 - val_accuracy: 0.7594\n",
            "Epoch 17/30\n",
            "50/50 [==============================] - 0s 6ms/step - loss: 0.3589 - accuracy: 0.8732 - val_loss: 0.4777 - val_accuracy: 0.7970\n",
            "Epoch 18/30\n",
            "50/50 [==============================] - 0s 7ms/step - loss: 0.3462 - accuracy: 0.8694 - val_loss: 0.4817 - val_accuracy: 0.7895\n",
            "Epoch 19/30\n",
            "50/50 [==============================] - 0s 6ms/step - loss: 0.3300 - accuracy: 0.8763 - val_loss: 0.4791 - val_accuracy: 0.7769\n",
            "Epoch 20/30\n",
            "50/50 [==============================] - 0s 5ms/step - loss: 0.3170 - accuracy: 0.8876 - val_loss: 0.4767 - val_accuracy: 0.7794\n",
            "Epoch 21/30\n",
            "50/50 [==============================] - 0s 6ms/step - loss: 0.3064 - accuracy: 0.8858 - val_loss: 0.4824 - val_accuracy: 0.7694\n",
            "Epoch 22/30\n",
            "50/50 [==============================] - 0s 6ms/step - loss: 0.2954 - accuracy: 0.8876 - val_loss: 0.4812 - val_accuracy: 0.7694\n",
            "Epoch 23/30\n",
            "50/50 [==============================] - 0s 6ms/step - loss: 0.2861 - accuracy: 0.8876 - val_loss: 0.5055 - val_accuracy: 0.7368\n",
            "Epoch 24/30\n",
            "50/50 [==============================] - 0s 6ms/step - loss: 0.2761 - accuracy: 0.8952 - val_loss: 0.4770 - val_accuracy: 0.7694\n",
            "Epoch 25/30\n",
            "50/50 [==============================] - 0s 6ms/step - loss: 0.2691 - accuracy: 0.8933 - val_loss: 0.5364 - val_accuracy: 0.7143\n",
            "Epoch 26/30\n",
            "50/50 [==============================] - 0s 6ms/step - loss: 0.2649 - accuracy: 0.8970 - val_loss: 0.4874 - val_accuracy: 0.7544\n",
            "Epoch 27/30\n",
            "50/50 [==============================] - 0s 5ms/step - loss: 0.2562 - accuracy: 0.9046 - val_loss: 0.4903 - val_accuracy: 0.7519\n",
            "Epoch 28/30\n",
            "50/50 [==============================] - 0s 6ms/step - loss: 0.2505 - accuracy: 0.9052 - val_loss: 0.4881 - val_accuracy: 0.7619\n",
            "Epoch 29/30\n",
            "50/50 [==============================] - 0s 6ms/step - loss: 0.2458 - accuracy: 0.9014 - val_loss: 0.5405 - val_accuracy: 0.7168\n",
            "Epoch 30/30\n",
            "50/50 [==============================] - 0s 6ms/step - loss: 0.2414 - accuracy: 0.9065 - val_loss: 0.4944 - val_accuracy: 0.7569\n"
          ],
          "name": "stdout"
        }
      ]
    },
    {
      "cell_type": "markdown",
      "metadata": {
        "id": "6XQTdGW4tXCW",
        "colab_type": "text"
      },
      "source": [
        "# Visualize the training graph"
      ]
    },
    {
      "cell_type": "code",
      "metadata": {
        "id": "6O6aNP89tYqk",
        "colab_type": "code",
        "outputId": "8b3498ef-f945-4ec3-924b-d73a9158824d",
        "colab": {
          "base_uri": "https://localhost:8080/",
          "height": 541
        }
      },
      "source": [
        "import matplotlib.pyplot as plt\n",
        "\n",
        "def plot_graphs(history, string):\n",
        "  plt.plot(history.history[string])\n",
        "  plt.plot(history.history['val_'+string])\n",
        "  plt.xlabel(\"Epochs\")\n",
        "  plt.ylabel(string)\n",
        "  plt.legend([string, 'val_{}'.format(string)])\n",
        "  plt.show()\n",
        "    \n",
        "plot_graphs(history, \"accuracy\")\n",
        "plot_graphs(history, \"loss\")"
      ],
      "execution_count": 9,
      "outputs": [
        {
          "output_type": "display_data",
          "data": {
            "image/png": "[encoded data removed]",
            "text/plain": [
              "<Figure size 432x288 with 1 Axes>"
            ]
          },
          "metadata": {
            "tags": [],
            "needs_background": "light"
          }
        },
        {
          "output_type": "display_data",
          "data": {
            "image/png": "[encoded data removed]",
            "text/plain": [
              "<Figure size 432x288 with 1 Axes>"
            ]
          },
          "metadata": {
            "tags": [],
            "needs_background": "light"
          }
        }
      ]
    },
    {
      "cell_type": "code",
      "metadata": {
        "id": "w7i_H3BdtYnN",
        "colab_type": "code",
        "colab": {}
      },
      "source": [
        "  "
      ],
      "execution_count": 0,
      "outputs": []
    },
    {
      "cell_type": "code",
      "metadata": {
        "id": "mcsG3lfbtYkY",
        "colab_type": "code",
        "colab": {}
      },
      "source": [
        ""
      ],
      "execution_count": 0,
      "outputs": []
    },
    {
      "cell_type": "markdown",
      "metadata": {
        "id": "f2cpP_SAkWGo",
        "colab_type": "text"
      },
      "source": [
        "# Get files for visualizing the network"
      ]
    },
    {
      "cell_type": "code",
      "metadata": {
        "id": "oUzVFmMakO8K",
        "colab_type": "code",
        "outputId": "eab81ff4-75ae-4d8a-8b33-e6fab667e3cc",
        "colab": {
          "base_uri": "https://localhost:8080/",
          "height": 34
        }
      },
      "source": [
        "# First get the weights of the embedding layer\n",
        "e = model.layers[0]\n",
        "weights = e.get_weights()[0]\n",
        "print(weights.shape) # shape: (vocab_size, embedding_dim)"
      ],
      "execution_count": 13,
      "outputs": [
        {
          "output_type": "stream",
          "text": [
            "(500, 16)\n"
          ],
          "name": "stdout"
        }
      ]
    },
    {
      "cell_type": "code",
      "metadata": {
        "id": "xKf9sleEktwg",
        "colab_type": "code",
        "colab": {}
      },
      "source": [
        "import io\n",
        "\n",
        "# Create the reverse word index\n",
        "reverse_word_index = dict([(value, key) for (key, value) in word_index.items()])\n",
        "\n",
        "# Write out the embedding vectors and metadata\n",
        "out_v = io.open('vecs.tsv', 'w', encoding='utf-8')\n",
        "out_m = io.open('meta.tsv', 'w', encoding='utf-8')\n",
        "for word_num in range(1, vocab_size):\n",
        "  word = reverse_word_index[word_num]\n",
        "  embeddings = weights[word_num]\n",
        "  out_m.write(word + \"\\n\")\n",
        "  out_v.write('\\t'.join([str(x) for x in embeddings]) + \"\\n\")\n",
        "out_v.close()\n",
        "out_m.close()"
      ],
      "execution_count": 0,
      "outputs": []
    },
    {
      "cell_type": "code",
      "metadata": {
        "id": "ejNrExa6k3Eh",
        "colab_type": "code",
        "colab": {}
      },
      "source": [
        "# Download the files\n",
        "try:\n",
        "  from google.colab import files\n",
        "except ImportError:\n",
        "  pass\n",
        "else:\n",
        "  files.download('vecs.tsv')\n",
        "  files.download('meta.tsv')"
      ],
      "execution_count": 0,
      "outputs": []
    },
    {
      "cell_type": "code",
      "metadata": {
        "id": "3-5zg6eEk456",
        "colab_type": "code",
        "colab": {}
      },
      "source": [
        "# load the site\n",
        "# http://projector.tensorflow.org/"
      ],
      "execution_count": 0,
      "outputs": []
    },
    {
      "cell_type": "markdown",
      "metadata": {
        "id": "E3lAhI5kqdTq",
        "colab_type": "text"
      },
      "source": [
        "# Predicting Sentiment in New Reviews\n"
      ]
    },
    {
      "cell_type": "code",
      "metadata": {
        "id": "ZkAFh_Idqcpb",
        "colab_type": "code",
        "outputId": "c1019ed4-4be1-4666-dfd6-8a2a2f0c4835",
        "colab": {
          "base_uri": "https://localhost:8080/",
          "height": 776
        }
      },
      "source": [
        "# Use the model to predict a review   \n",
        "fake_reviews = ['I love this phone', 'I hate spaghetti', \n",
        "                'Everything was cold',\n",
        "                'Everything was hot exactly as I wanted', \n",
        "                'Everything was green', \n",
        "                'the host seated us immediately',\n",
        "                'they gave us free chocolate cake', \n",
        "                'not sure about the wilted flowers on the table',\n",
        "                'only works when I stand on tippy toes', \n",
        "                'does not work when I stand on my head']\n",
        "\n",
        "print(fake_reviews) \n",
        "\n",
        "# Create the sequences\n",
        "padding_type='post'\n",
        "sample_sequences = tokenizer.texts_to_sequences(fake_reviews)\n",
        "fakes_padded = pad_sequences(sample_sequences, padding=padding_type, maxlen=max_length)           \n",
        "\n",
        "print('\\nHOT OFF THE PRESS! HERE ARE SOME NEWLY MINTED, ABSOLUTELY GENUINE REVIEWS!\\n')              \n",
        "\n",
        "classes = model.predict(fakes_padded)\n",
        "\n",
        "# The closer the class is to 1, the more positive the review is deemed to be\n",
        "for x in range(len(fake_reviews)):\n",
        "  print(fake_reviews[x])\n",
        "  print(classes[x])\n",
        "  print('\\n')\n",
        "\n",
        "# Try adding reviews of your own\n",
        "# Add some negative words (such as \"not\") to the good reviews and see what happens\n",
        "# For example:\n",
        "# they gave us free chocolate cake and did not charge us"
      ],
      "execution_count": 16,
      "outputs": [
        {
          "output_type": "stream",
          "text": [
            "['I love this phone', 'I hate spaghetti', 'Everything was cold', 'Everything was hot exactly as I wanted', 'Everything was green', 'the host seated us immediately', 'they gave us free chocolate cake', 'not sure about the wilted flowers on the table', 'only works when I stand on tippy toes', 'does not work when I stand on my head']\n",
            "\n",
            "HOT OFF THE PRESS! HERE ARE SOME NEWLY MINTED, ABSOLUTELY GENUINE REVIEWS!\n",
            "\n",
            "I love this phone\n",
            "[0.9228869]\n",
            "\n",
            "\n",
            "I hate spaghetti\n",
            "[0.11231055]\n",
            "\n",
            "\n",
            "Everything was cold\n",
            "[0.5628021]\n",
            "\n",
            "\n",
            "Everything was hot exactly as I wanted\n",
            "[0.38162753]\n",
            "\n",
            "\n",
            "Everything was green\n",
            "[0.5628021]\n",
            "\n",
            "\n",
            "the host seated us immediately\n",
            "[0.56115943]\n",
            "\n",
            "\n",
            "they gave us free chocolate cake\n",
            "[0.87127215]\n",
            "\n",
            "\n",
            "not sure about the wilted flowers on the table\n",
            "[0.06007138]\n",
            "\n",
            "\n",
            "only works when I stand on tippy toes\n",
            "[0.8849269]\n",
            "\n",
            "\n",
            "does not work when I stand on my head\n",
            "[0.02721222]\n",
            "\n",
            "\n"
          ],
          "name": "stdout"
        }
      ]
    },
    {
      "cell_type": "code",
      "metadata": {
        "id": "1PY5jnBXqgby",
        "colab_type": "code",
        "colab": {}
      },
      "source": [
        ""
      ],
      "execution_count": 0,
      "outputs": []
    }
  ]
}